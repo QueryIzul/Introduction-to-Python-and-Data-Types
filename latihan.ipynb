{
 "cells": [
  {
   "cell_type": "code",
   "execution_count": 1,
   "id": "7350302a-2a0e-4a29-bf4d-e1dcedc4a818",
   "metadata": {},
   "outputs": [
    {
     "name": "stdout",
     "output_type": "stream",
     "text": [
      "HALLO WORLD\n"
     ]
    }
   ],
   "source": [
    "print('HALLO WORLD')"
   ]
  },
  {
   "cell_type": "code",
   "execution_count": null,
   "id": "2364dbec-d61f-4de6-acda-fc2b06ed4766",
   "metadata": {},
   "outputs": [],
   "source": []
  }
 ],
 "metadata": {
  "kernelspec": {
   "display_name": "Python 3 (ipykernel)",
   "language": "python",
   "name": "python3"
  },
  "language_info": {
   "codemirror_mode": {
    "name": "ipython",
    "version": 3
   },
   "file_extension": ".py",
   "mimetype": "text/x-python",
   "name": "python",
   "nbconvert_exporter": "python",
   "pygments_lexer": "ipython3",
   "version": "3.9.12"
  }
 },
 "nbformat": 4,
 "nbformat_minor": 5
}
